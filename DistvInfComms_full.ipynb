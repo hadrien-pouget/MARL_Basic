{
 "cells": [
  {
   "cell_type": "code",
   "execution_count": null,
   "metadata": {},
   "outputs": [],
   "source": [
    "from utils import plot_from_folder, plot_oneshot_policies, plot_res_with_pol1\n",
    "import matplotlib.pyplot as plt\n",
    "import ipywidgets as wid\n",
    "\n",
    "# noise_mag = wid.FloatSlider(value=0, min=0, max=1, step=0.05)\n",
    "# p = wid.FloatSlider(value=0.5, min=0, max=1, step=0.1)\n",
    "# a = wid.IntSlider(value=2, min=1, max=10, step=1)\n",
    "# step_type = wid.Dropdown(value='naive', options=['lola', 'naive'])\n",
    "\n",
    "@wid.interact(p=(0, 1, 0.1), a=(1, 10, 1), step_type=['lola','naive'], noise_mag=(0, 1, 0.05))\n",
    "def plot_all_res(p=0.5, a=3, step_type='naive', noise_mag=0):\n",
    "    plt.figure(figsize=(10, 4))\n",
    "    save_folder = \"DistInfComms_p{}_a{}_{}_0\".format(p, a, step_type)\n",
    "    plt.subplot(1, 2, 1)\n",
    "    plt.xlabel(\"With communication\")\n",
    "    plot_from_folder(save_folder, noise_mag=noise_mag)\n",
    "    plt.subplot(1, 2, 2)    \n",
    "    save_folder = \"DistInf_p{}_a{}_{}_0\".format(p, a, step_type)\n",
    "    plt.xlabel(\"Without communication\")\n",
    "    plot_from_folder(save_folder, noise_mag=noise_mag)\n",
    "    plt.tight_layout()\n",
    "    plt.show()"
   ]
  },
  {
   "cell_type": "markdown",
   "metadata": {},
   "source": []
  }
 ],
 "metadata": {
  "kernelspec": {
   "display_name": "Python 3",
   "language": "python",
   "name": "python3"
  },
  "language_info": {
   "codemirror_mode": {
    "name": "ipython",
    "version": 3
   },
   "file_extension": ".py",
   "mimetype": "text/x-python",
   "name": "python",
   "nbconvert_exporter": "python",
   "pygments_lexer": "ipython3",
   "version": "3.8.8"
  }
 },
 "nbformat": 4,
 "nbformat_minor": 2
}