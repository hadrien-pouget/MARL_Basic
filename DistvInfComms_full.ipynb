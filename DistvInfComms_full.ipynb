{
 "cells": [
  {
   "cell_type": "code",
   "execution_count": 1,
   "metadata": {},
   "outputs": [
    {
     "output_type": "display_data",
     "data": {
      "text/plain": "interactive(children=(FloatSlider(value=0.1, description='p', max=1.0), Dropdown(description='a', index=1, opt…",
      "application/vnd.jupyter.widget-view+json": {
       "version_major": 2,
       "version_minor": 0,
       "model_id": "d883fae4f4a24e288b9de9b65d0d2439"
      }
     },
     "metadata": {}
    }
   ],
   "source": [
    "from plot_utils import plot_from_folder, plot_oneshot_policies, plot_res_with_pol1\n",
    "import matplotlib.pyplot as plt\n",
    "import ipywidgets as wid\n",
    "\n",
    "@wid.interact(p=(0, 1, 0.1), a=[1,2,5,10], step_type=['lola','naive'], noise_mag=(0, 1, 0.05))\n",
    "def plot_all_res(p=0.1, a=2, step_type='naive', noise_mag=0):\n",
    "    prior = 'Player1'\n",
    "    # plt.figure(figsize=(10, 4))\n",
    "    save_folder = \"DistInfComms_p{}_a{}_{}_0\".format(p, a, step_type)\n",
    "    # plt.subplot(1, 2, 1)\n",
    "    # plt.xlabel(\"With communication\")\n",
    "    plot_from_folder(save_folder, prior, noise_mag=noise_mag)\n",
    "    # plt.subplot(1, 2, 2)    \n",
    "    # save_folder = \"DistInf_p{}_a{}_{}_0\".format(p, a, step_type)\n",
    "    # plt.xlabel(\"Without communication\")\n",
    "    # plot_from_folder(save_folder, prior, noise_mag=noise_mag)"
   ]
  },
  {
   "cell_type": "markdown",
   "metadata": {},
   "source": []
  }
 ],
 "metadata": {
  "kernelspec": {
   "name": "python388jvsc74a57bd0b67035600a667de3e2a3e6bc6f663850b3ad2ce353c5279796bc411b10e9d4e9",
   "display_name": "Python 3.8.8 64-bit ('torch': conda)"
  },
  "language_info": {
   "codemirror_mode": {
    "name": "ipython",
    "version": 3
   },
   "file_extension": ".py",
   "mimetype": "text/x-python",
   "name": "python",
   "nbconvert_exporter": "python",
   "pygments_lexer": "ipython3",
   "version": "3.8.8"
  }
 },
 "nbformat": 4,
 "nbformat_minor": 2
}