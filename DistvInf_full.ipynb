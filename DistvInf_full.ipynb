{
 "metadata": {
  "language_info": {
   "codemirror_mode": {
    "name": "ipython",
    "version": 3
   },
   "file_extension": ".py",
   "mimetype": "text/x-python",
   "name": "python",
   "nbconvert_exporter": "python",
   "pygments_lexer": "ipython3",
   "version": "3.8.8-final"
  },
  "orig_nbformat": 2,
  "kernelspec": {
   "name": "python3",
   "display_name": "Python 3.8.8 64-bit ('torch': conda)",
   "metadata": {
    "interpreter": {
     "hash": "b67035600a667de3e2a3e6bc6f663850b3ad2ce353c5279796bc411b10e9d4e9"
    }
   }
  }
 },
 "nbformat": 4,
 "nbformat_minor": 2,
 "cells": [
  {
   "cell_type": "code",
   "execution_count": 1,
   "metadata": {},
   "outputs": [
    {
     "output_type": "display_data",
     "data": {
      "text/plain": "interactive(children=(FloatSlider(value=0.5, description='p', max=1.0), IntSlider(value=2, description='a', ma…",
      "application/vnd.jupyter.widget-view+json": {
       "version_major": 2,
       "version_minor": 0,
       "model_id": "88149280b72e43f89674703471849756"
      }
     },
     "metadata": {}
    }
   ],
   "source": [
    "from utils import plot_from_folder, plot_oneshot_policies, plot_res_with_pol1\n",
    "import matplotlib.pyplot as plt\n",
    "import ipywidgets as wid\n",
    "\n",
    "# noise_mag = wid.FloatSlider(value=0, min=0, max=1, step=0.05)\n",
    "# p = wid.FloatSlider(value=0.5, min=0, max=1, step=0.1)\n",
    "# a = wid.IntSlider(value=2, min=1, max=10, step=1)\n",
    "# step_type = wid.Dropdown(value='naive', options=['lola', 'naive'])\n",
    "\n",
    "@wid.interact(p=(0, 1, 0.1), a=(1, 10, 1), step_type=['lola','naive'], noise_mag=(0, 1, 0.05))\n",
    "def plot_all_res(p=0.5, a=2, step_type='naive', noise_mag=0):\n",
    "    save_folder = \"DistInf_p{}_a{}_{}_0\".format(p, a, step_type)\n",
    "    plot_from_folder(save_folder, noise_mag=noise_mag)\n",
    "    plt.show()\n",
    "    plot_res_with_pol1(save_folder, noise_mag=noise_mag)\n",
    "    plt.show()\n",
    "    plot_oneshot_policies(save_folder)"
   ]
  },
  {
   "cell_type": "code",
   "execution_count": null,
   "metadata": {},
   "outputs": [],
   "source": []
  }
 ]
}