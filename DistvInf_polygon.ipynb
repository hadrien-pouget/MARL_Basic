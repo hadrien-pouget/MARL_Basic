{
 "metadata": {
  "language_info": {
   "codemirror_mode": {
    "name": "ipython",
    "version": 3
   },
   "file_extension": ".py",
   "mimetype": "text/x-python",
   "name": "python",
   "nbconvert_exporter": "python",
   "pygments_lexer": "ipython3",
   "version": "3.8.8"
  },
  "orig_nbformat": 2,
  "kernelspec": {
   "name": "python3",
   "display_name": "Python 3.8.8 64-bit ('torch': conda)",
   "metadata": {
    "interpreter": {
     "hash": "b67035600a667de3e2a3e6bc6f663850b3ad2ce353c5279796bc411b10e9d4e9"
    }
   }
  }
 },
 "nbformat": 4,
 "nbformat_minor": 2,
 "cells": [
  {
   "cell_type": "code",
   "execution_count": 2,
   "metadata": {},
   "outputs": [],
   "source": [
    "import matplotlib.pyplot as plt\n",
    "import seaborn as sns\n",
    "sns.set()\n",
    "import ipywidgets as wid\n",
    "from games import get_game\n",
    "import numpy as np\n",
    "import itertools"
   ]
  },
  {
   "cell_type": "code",
   "execution_count": 3,
   "metadata": {},
   "outputs": [
    {
     "output_type": "display_data",
     "data": {
      "text/plain": "interactive(children=(FloatSlider(value=0.0, description='p', max=1.0), IntSlider(value=7, description='a', ma…",
      "application/vnd.jupyter.widget-view+json": {
       "version_major": 2,
       "version_minor": 0,
       "model_id": "9955e76e5e674444aa9c5cc1d0239f48"
      }
     },
     "metadata": {}
    }
   ],
   "source": [
    "def label_point(x, y, lab):\n",
    "    plt.text(x+.01, y-0.01, lab)\n",
    "\n",
    "@wid.interact(p=(0,1,0.1), a=(0, 15,1))\n",
    "def show_polygons(p, a):\n",
    "    env = get_game(\"DistInf\", p=p, a=a)\n",
    "    polygon = env.outcomes_polygon()\n",
    "    plt.fill(polygon[0], polygon[1], alpha=0.1, color='purple')\n",
    "    strats = np.array(env.get_pure_outcomes_as_points())\n",
    "    sns.scatterplot(x=strats[:,0], y=strats[:,1])\n",
    "    labs = [\"A\", \"B\"]\n",
    "    for (x, y), lab in zip(strats, itertools.product(labs, labs, labs, labs)):\n",
    "        label_point(x, y, \"\".join(lab))\n",
    "    # print(env)"
   ]
  },
  {
   "cell_type": "code",
   "execution_count": null,
   "metadata": {},
   "outputs": [],
   "source": []
  }
 ]
}