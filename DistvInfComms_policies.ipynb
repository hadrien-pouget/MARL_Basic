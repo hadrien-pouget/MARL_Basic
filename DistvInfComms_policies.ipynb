{
 "cells": [
  {
   "cell_type": "code",
   "execution_count": 10,
   "metadata": {},
   "outputs": [],
   "source": [
    "from utils import load_results_policies\n",
    "from games import get_game\n",
    "import matplotlib.pyplot as plt\n",
    "import ipywidgets as wid\n",
    "import numpy as np\n",
    "import seaborn as sns\n",
    "from itertools import product\n",
    "sns.set()\n"
   ]
  },
  {
   "source": [
    "@wid.interact(p=(0, 1, 0.1), a=(1, 10, 1), step_type=['lola','naive'])\n",
    "def plot_all_res(p=0.5, a=3, step_type='naive'):\n",
    "    save_folder = \"DistInfComms_p{}_a{}_{}_0\".format(p, a, step_type)\n",
    "    game = get_game(\"DistInfComms\", p=p, a=a)\n",
    "    _, _, p1s, p2s = load_results_policies(save_folder)\n",
    "    p1s = np.array(p1s)\n",
    "    p2s = np.array(p2s)\n",
    "    \n",
    "    ### Mutual information between signals and types, and signals and actions\n",
    "    plt.figure(figsize=(12, 12))\n",
    "    MIts = [game.MI_ts(p1, p2) for p1, p2 in zip(p1s, p2s)]\n",
    "    MIas = [game.MI_as(p1, p2) for p1, p2 in zip(p1s, p2s)]\n",
    "\n",
    "    ind = 0\n",
    "    titles = [\"I(t1;s1)\", \"I(t2;s2)\", \"I(a1;(s1, s2))\", \"I(a2;(s1, s2))\"]\n",
    "    for MIs in [MIts, MIas]:\n",
    "        MI1s, MI2s = [ i for i, j in MIs ], [ j for i, j in MIs]\n",
    "        for MI in [MI1s, MI2s]:\n",
    "            ind += 1\n",
    "            plt.subplot(2, 2, ind)\n",
    "            plt.xlim(0,.7)\n",
    "            plt.ylim(0, 40)\n",
    "            plt.xlabel(titles[ind-1])\n",
    "            sns.histplot(x=MI, binwidth=0.1)#, kde=True)\n",
    "    plt.tight_layout()"
   ],
   "cell_type": "code",
   "metadata": {},
   "execution_count": 11,
   "outputs": [
    {
     "output_type": "display_data",
     "data": {
      "text/plain": "interactive(children=(FloatSlider(value=0.5, description='p', max=1.0), IntSlider(value=3, description='a', ma…",
      "application/vnd.jupyter.widget-view+json": {
       "version_major": 2,
       "version_minor": 0,
       "model_id": "f41e71f803934b66bf8293240e4046da"
      }
     },
     "metadata": {}
    }
   ]
  },
  {
   "cell_type": "code",
   "execution_count": 12,
   "metadata": {},
   "outputs": [
    {
     "output_type": "display_data",
     "data": {
      "text/plain": "interactive(children=(IntSlider(value=3, description='a', max=10, min=1), Dropdown(description='step_type', in…",
      "application/vnd.jupyter.widget-view+json": {
       "version_major": 2,
       "version_minor": 0,
       "model_id": "20b71279e1d44801b19f1a6690ca1487"
      }
     },
     "metadata": {}
    }
   ],
   "source": [
    "@wid.interact(a=(1, 10, 1), step_type=['lola','naive'])\n",
    "def plot_all_res(a=3, step_type='naive'):\n",
    "    n_babble = []\n",
    "    n_coord = []\n",
    "    n_leader = []\n",
    "    n_comm = []\n",
    "    ps = [i/10 for i in range(0,11)]\n",
    "    for p in ps:\n",
    "        save_folder = \"DistInfComms_p{}_a{}_{}_0\".format(p, a, step_type)\n",
    "        game = get_game(\"DistInfComms\", p=p, a=a)\n",
    "        _, _, p1s, p2s = load_results_policies(save_folder)\n",
    "        p1s = np.array(p1s)\n",
    "        p2s = np.array(p2s)\n",
    "        \n",
    "        ### Mutual information between signals and types, and signals and actions\n",
    "        MIts = [game.MI_ts(p1, p2) for p1, p2 in zip(p1s, p2s)]\n",
    "        MIas = [game.MI_as(p1, p2) for p1, p2 in zip(p1s, p2s)]\n",
    "\n",
    "        ### Equilibrium with no information shared through messages (Babbling or Coordination)\n",
    "        all_ps = set(range(40))\n",
    "        no_info1 = set([i for i in range(len(MIts)) if MIts[i][0] < 0.1])\n",
    "        no_info2 = set([i for i in range(len(MIts)) if MIts[i][1] < 0.1])\n",
    "        info1 = set([i for i in range(len(MIts)) if MIts[i][0] > 0.1])\n",
    "        info2 = set([i for i in range(len(MIts)) if MIts[i][1] > 0.1])\n",
    "        ig_sig1  = set([i for i in range(len(MIas)) if MIas[i][0] < 0.1])\n",
    "        ig_sig2  = set([i for i in range(len(MIas)) if MIas[i][1] < 0.1])\n",
    "        sig1 = set([i for i in range(len(MIas)) if MIas[i][0] > 0.1])\n",
    "        sig2 = set([i for i in range(len(MIas)) if MIas[i][1] > 0.1])\n",
    "\n",
    "        no_info = no_info1.intersection(no_info2)\n",
    "        info = info1.intersection(info2)\n",
    "        ig_sig  = ig_sig1.intersection(ig_sig2)\n",
    "        sig = sig1.intersection(sig2)\n",
    "\n",
    "        babble = no_info.intersection(ig_sig)\n",
    "        n_babble.append(len(babble))\n",
    "\n",
    "        coord = no_info.intersection(sig)\n",
    "        n_coord.append(len(coord))\n",
    "\n",
    "        leader = no_info1.intersection(info2.intersection(sig1))\n",
    "        n_leader.append(len(leader))\n",
    "\n",
    "        comm = info\n",
    "        n_comm.append(len(comm))\n",
    "    \n",
    "    all_ys = n_babble + n_coord + n_leader + n_comm\n",
    "    all_xs = ps + ps + ps + ps\n",
    "    names = [\"Babble\", \"Coord\", \"Leader\", \"Comm\"]\n",
    "    hues = [names[int(i/len(ps))] for i in range(len(all_xs))]\n",
    "\n",
    "    plt.figure(figsize=(12, 4))\n",
    "    plt.ylim(0,25)\n",
    "    plt.xlim(0,1)\n",
    "    plt.ylabel(\"Count\")\n",
    "    plt.xlabel(\"p\")\n",
    "    sns.barplot(x=all_xs, y=all_ys, hue=hues)\n"
   ]
  }
 ],
 "metadata": {
  "kernelspec": {
   "name": "python388jvsc74a57bd0b67035600a667de3e2a3e6bc6f663850b3ad2ce353c5279796bc411b10e9d4e9",
   "display_name": "Python 3.8.8 64-bit ('torch': conda)"
  },
  "language_info": {
   "codemirror_mode": {
    "name": "ipython",
    "version": 3
   },
   "file_extension": ".py",
   "mimetype": "text/x-python",
   "name": "python",
   "nbconvert_exporter": "python",
   "pygments_lexer": "ipython3",
   "version": "3.8.8-final"
  }
 },
 "nbformat": 4,
 "nbformat_minor": 2
}