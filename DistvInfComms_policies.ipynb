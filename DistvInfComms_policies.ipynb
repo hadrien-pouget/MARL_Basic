{
 "cells": [
  {
   "cell_type": "code",
   "execution_count": 1,
   "metadata": {},
   "outputs": [],
   "source": [
    "from utils import load_results\n",
    "from games import get_game\n",
    "import matplotlib.pyplot as plt\n",
    "import ipywidgets as wid\n",
    "import numpy as np\n",
    "import seaborn as sns\n",
    "from itertools import product\n",
    "sns.set()\n"
   ]
  },
  {
   "source": [
    "@wid.interact(p=(0, 1, 0.1), a=[1,2,5,10], step_type=['lola','naive'])\n",
    "def plot_all_res(p=0.2, a=2, step_type='naive'):\n",
    "    save_folder = \"DistInfComms_p{}_a{}_{}_0\".format(p, a, step_type)\n",
    "    game = get_game(\"DistInfComms\", p=p, a=a)\n",
    "    p1s, p2s = load_results(save_folder, 'Pols_0')\n",
    "    p1s = np.array(p1s)\n",
    "    p2s = np.array(p2s)\n",
    "    \n",
    "    ### Mutual information between signals and types, and signals and actions\n",
    "    plt.figure(figsize=(12, 12))\n",
    "    MIts = [game.MI_ts(p1, p2) for p1, p2 in zip(p1s, p2s)]\n",
    "    MIas = [game.MI_as(p1, p2)[:2] for p1, p2 in zip(p1s, p2s)]\n",
    "\n",
    "    ind = 0\n",
    "    titles = [\"I(t1;s1)\", \"I(t2;s2)\", \"I(a1;(s1, s2))\", \"I(a2;(s1, s2))\"]\n",
    "    for MIs in [MIts, MIas]:\n",
    "        MI1s, MI2s = [ i for i, j in MIs ], [ j for i, j in MIs]\n",
    "        for MI in [MI1s, MI2s]:\n",
    "            ind += 1\n",
    "            plt.subplot(2, 2, ind)\n",
    "            plt.xlim(0,.7)\n",
    "            plt.ylim(0, 40)\n",
    "            plt.xlabel(titles[ind-1])\n",
    "            sns.histplot(x=MI, binwidth=0.1)\n",
    "    plt.tight_layout()"
   ],
   "cell_type": "code",
   "metadata": {},
   "execution_count": 2,
   "outputs": [
    {
     "output_type": "display_data",
     "data": {
      "text/plain": "interactive(children=(FloatSlider(value=0.2, description='p', max=1.0), Dropdown(description='a', index=1, opt…",
      "application/vnd.jupyter.widget-view+json": {
       "version_major": 2,
       "version_minor": 0,
       "model_id": "e124a0fdf5b144e5aa3ae741ad86a87d"
      }
     },
     "metadata": {}
    }
   ]
  },
  {
   "cell_type": "code",
   "execution_count": 3,
   "metadata": {},
   "outputs": [
    {
     "output_type": "display_data",
     "data": {
      "text/plain": "interactive(children=(Dropdown(description='a', index=1, options=(1, 2, 5, 10), value=2), Dropdown(description…",
      "application/vnd.jupyter.widget-view+json": {
       "version_major": 2,
       "version_minor": 0,
       "model_id": "ab51d0ddac6d4bc7ad2ecc9d232bfe22"
      }
     },
     "metadata": {}
    }
   ],
   "source": [
    "@wid.interact(a=[1,2,5,10], step_type=['lola','naive'], babble=True, coord=True, leader=True, comm=True, other=True)\n",
    "def plot_all_res(a=2, step_type='naive', babble=True, coord=True, leader=True, comm=True, other=True):\n",
    "    ps = [i/10 for i in range(0,11)]\n",
    "\n",
    "    using = [babble, coord, leader, comm, other]\n",
    "    names = [\"Babble\", \"Coord\", \"Leader\", \"Comm\", \"Other\"]\n",
    "    colours = {names[n]:'C{}'.format(n) for n in range(len(names))}\n",
    "    names = [names[n] for n in range(len(names)) if using[n]]\n",
    "\n",
    "    all_xs = []\n",
    "    all_ys = []\n",
    "    hue = []\n",
    "    for p in ps:\n",
    "        save_folder = \"DistInfComms_p{}_a{}_{}_0\".format(p, a, step_type)\n",
    "        game = get_game(\"DistInfComms\", p=p, a=a)\n",
    "        p1s, p2s = load_results(save_folder, 'Pols_0')\n",
    "        p1s = np.array(p1s)\n",
    "        p2s = np.array(p2s)\n",
    "\n",
    "        res = game.get_equilibria(p1s, p2s)\n",
    "        res = [res[r] for r in range(len(res)) if using[r]]\n",
    "        all_xs += [p]*len(names)\n",
    "        all_ys += [len(r) for r in res]\n",
    "        hue += names\n",
    "\n",
    "    plt.figure(figsize=(15, 4))\n",
    "    plt.ylim(0,25)\n",
    "    plt.xlim(0,1)\n",
    "    plt.ylabel(\"Count\")\n",
    "    plt.xlabel(\"p\")\n",
    "    sns.barplot(x=all_xs, y=all_ys, hue=hue, palette=colours)\n"
   ]
  },
  {
   "cell_type": "code",
   "execution_count": 4,
   "metadata": {},
   "outputs": [
    {
     "output_type": "display_data",
     "data": {
      "text/plain": "interactive(children=(FloatSlider(value=0.2, description='p', max=1.0), Dropdown(description='a', index=1, opt…",
      "application/vnd.jupyter.widget-view+json": {
       "version_major": 2,
       "version_minor": 0,
       "model_id": "fd9f8fdce2be4b5786032361f1a45588"
      }
     },
     "metadata": {}
    }
   ],
   "source": [
    "from plot_utils import plot_from_folder, plot_oneshot_policies, plot_res_with_pol1\n",
    "\n",
    "@wid.interact(p=(0, 1, 0.1), a=[1, 2, 5, 10], step_type=['lola','naive'])\n",
    "def plot_all_res(p=0.2, a=2, step_type='naive'):\n",
    "    save_folder = \"DistInfComms_p{}_a{}_{}_0\".format(p, a, step_type)\n",
    "    game = get_game(\"DistInfComms\", p=p, a=a)\n",
    "    game.plot_with_equilibria(save_folder)\n"
   ]
  },
  {
   "cell_type": "code",
   "execution_count": null,
   "metadata": {},
   "outputs": [],
   "source": []
  }
 ],
 "metadata": {
  "kernelspec": {
   "name": "python388jvsc74a57bd0b67035600a667de3e2a3e6bc6f663850b3ad2ce353c5279796bc411b10e9d4e9",
   "display_name": "Python 3.8.8 64-bit ('torch': conda)"
  },
  "language_info": {
   "codemirror_mode": {
    "name": "ipython",
    "version": 3
   },
   "file_extension": ".py",
   "mimetype": "text/x-python",
   "name": "python",
   "nbconvert_exporter": "python",
   "pygments_lexer": "ipython3",
   "version": "3.8.8"
  }
 },
 "nbformat": 4,
 "nbformat_minor": 2
}