{
 "metadata": {
  "language_info": {
   "codemirror_mode": {
    "name": "ipython",
    "version": 3
   },
   "file_extension": ".py",
   "mimetype": "text/x-python",
   "name": "python",
   "nbconvert_exporter": "python",
   "pygments_lexer": "ipython3",
   "version": "3.8.8"
  },
  "orig_nbformat": 2,
  "kernelspec": {
   "name": "python3",
   "display_name": "Python 3.8.8 64-bit ('torch': conda)",
   "metadata": {
    "interpreter": {
     "hash": "b67035600a667de3e2a3e6bc6f663850b3ad2ce353c5279796bc411b10e9d4e9"
    }
   }
  }
 },
 "nbformat": 4,
 "nbformat_minor": 2,
 "cells": [
  {
   "source": [
    "Conclusions:\n",
    "- Mostly, this looks like what you'd expect\n",
    "- Seems like lola sometimes fails to converge. Looking at the lola paper, this is probably because I only do ~100 steps of training, whereas they do about 10x more"
   ],
   "cell_type": "markdown",
   "metadata": {}
  },
  {
   "cell_type": "code",
   "execution_count": 1,
   "metadata": {},
   "outputs": [],
   "source": [
    "from utils import plot_from_folder\n",
    "import matplotlib.pyplot as plt\n",
    "import ipywidgets as wid\n",
    "\n",
    "noise_mag = wid.FloatSlider(value=0, min=0, max=1, step=0.05)"
   ]
  },
  {
   "source": [
    "# Pure prisoner's Dilemma\n",
    "Iterated Prisoner's Dilemma, for naive and lola updates"
   ],
   "cell_type": "markdown",
   "metadata": {}
  },
  {
   "cell_type": "code",
   "execution_count": 2,
   "metadata": {},
   "outputs": [
    {
     "output_type": "display_data",
     "data": {
      "text/plain": "interactive(children=(FloatSlider(value=0.0, description='noise_mag', max=1.0, step=0.05), Output()), _dom_cla…",
      "application/vnd.jupyter.widget-view+json": {
       "version_major": 2,
       "version_minor": 0,
       "model_id": "e69850d895534efb8129ac044b97b6c6"
      }
     },
     "metadata": {}
    },
    {
     "output_type": "display_data",
     "data": {
      "text/plain": "interactive(children=(FloatSlider(value=0.0, description='noise_mag', max=1.0, step=0.05), Output()), _dom_cla…",
      "application/vnd.jupyter.widget-view+json": {
       "version_major": 2,
       "version_minor": 0,
       "model_id": "efe43f3dc4e74aacabc787e4ddec072d"
      }
     },
     "metadata": {}
    },
    {
     "output_type": "execute_result",
     "data": {
      "text/plain": [
       "<function utils.plot_from_folder(folder, noise_mag=0.2)>"
      ]
     },
     "metadata": {},
     "execution_count": 2
    }
   ],
   "source": [
    "wid.interact(plot_from_folder, folder=wid.fixed(\"PD_naive_results\"), noise_mag=noise_mag)\n",
    "wid.interact(plot_from_folder, folder=wid.fixed(\"PD_lola_results\"), noise_mag=noise_mag)"
   ]
  },
  {
   "source": [
    "# Pure BoS"
   ],
   "cell_type": "markdown",
   "metadata": {}
  },
  {
   "cell_type": "code",
   "execution_count": 3,
   "metadata": {},
   "outputs": [
    {
     "output_type": "display_data",
     "data": {
      "text/plain": "interactive(children=(FloatSlider(value=0.0, description='noise_mag', max=1.0, step=0.05), Output()), _dom_cla…",
      "application/vnd.jupyter.widget-view+json": {
       "version_major": 2,
       "version_minor": 0,
       "model_id": "e6ebadc9678642939c224cf0dacafaaf"
      }
     },
     "metadata": {}
    },
    {
     "output_type": "display_data",
     "data": {
      "text/plain": "interactive(children=(FloatSlider(value=0.0, description='noise_mag', max=1.0, step=0.05), Output()), _dom_cla…",
      "application/vnd.jupyter.widget-view+json": {
       "version_major": 2,
       "version_minor": 0,
       "model_id": "5697abf9044f47e482a88ce8c1c85fbc"
      }
     },
     "metadata": {}
    },
    {
     "output_type": "execute_result",
     "data": {
      "text/plain": [
       "<function utils.plot_from_folder(folder, noise_mag=0.2)>"
      ]
     },
     "metadata": {},
     "execution_count": 3
    }
   ],
   "source": [
    "wid.interact(plot_from_folder, folder=wid.fixed(\"BoS_naive_results\"), noise_mag=noise_mag)\n",
    "wid.interact(plot_from_folder, folder=wid.fixed(\"BoS_lola_results\"), noise_mag=noise_mag)"
   ]
  },
  {
   "source": [
    "# Noisy Prisoner's Dilemma"
   ],
   "cell_type": "markdown",
   "metadata": {}
  },
  {
   "cell_type": "code",
   "execution_count": 4,
   "metadata": {},
   "outputs": [
    {
     "output_type": "display_data",
     "data": {
      "text/plain": "interactive(children=(FloatSlider(value=0.0, description='noise_mag', max=1.0, step=0.05), Output()), _dom_cla…",
      "application/vnd.jupyter.widget-view+json": {
       "version_major": 2,
       "version_minor": 0,
       "model_id": "46712e6096054af78687b2470a461988"
      }
     },
     "metadata": {}
    },
    {
     "output_type": "display_data",
     "data": {
      "text/plain": "interactive(children=(FloatSlider(value=0.0, description='noise_mag', max=1.0, step=0.05), Output()), _dom_cla…",
      "application/vnd.jupyter.widget-view+json": {
       "version_major": 2,
       "version_minor": 0,
       "model_id": "ca5d86cb4a854888bfd6f03f23efbf4a"
      }
     },
     "metadata": {}
    },
    {
     "output_type": "execute_result",
     "data": {
      "text/plain": [
       "<function utils.plot_from_folder(folder, noise_mag=0.2)>"
      ]
     },
     "metadata": {},
     "execution_count": 4
    }
   ],
   "source": [
    "wid.interact(plot_from_folder, folder=wid.fixed(\"PD97_naive_results\"), noise_mag=noise_mag)\n",
    "wid.interact(plot_from_folder, folder=wid.fixed(\"PD97_lola_results\"), noise_mag=noise_mag)"
   ]
  }
 ]
}