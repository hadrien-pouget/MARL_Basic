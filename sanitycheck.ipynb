{
 "metadata": {
  "language_info": {
   "codemirror_mode": {
    "name": "ipython",
    "version": 3
   },
   "file_extension": ".py",
   "mimetype": "text/x-python",
   "name": "python",
   "nbconvert_exporter": "python",
   "pygments_lexer": "ipython3",
   "version": "3.8.8"
  },
  "orig_nbformat": 2,
  "kernelspec": {
   "name": "python3",
   "display_name": "Python 3.8.8 64-bit ('torch': conda)",
   "metadata": {
    "interpreter": {
     "hash": "b67035600a667de3e2a3e6bc6f663850b3ad2ce353c5279796bc411b10e9d4e9"
    }
   }
  }
 },
 "nbformat": 4,
 "nbformat_minor": 2,
 "cells": [
  {
   "source": [
    "Conclusions:\n",
    "- Mostly, this looks like what you'd expect\n",
    "- Seems like lola sometimes fails to converge. Looking at the lola paper, this is probably because I only do ~100 steps of training, whereas they do about 10x more"
   ],
   "cell_type": "markdown",
   "metadata": {}
  },
  {
   "cell_type": "code",
   "execution_count": 1,
   "metadata": {},
   "outputs": [],
   "source": [
    "from utils import plot_from_folder\n",
    "import matplotlib.pyplot as plt\n",
    "import ipywidgets as wid\n",
    "\n",
    "noise_mag = wid.FloatSlider(value=0, min=0, max=1, step=0.05)"
   ]
  },
  {
   "source": [
    "# Pure prisoner's Dilemma\n",
    "Iterated Prisoner's Dilemma, for naive and lola updates"
   ],
   "cell_type": "markdown",
   "metadata": {}
  },
  {
   "cell_type": "code",
   "execution_count": 2,
   "metadata": {},
   "outputs": [
    {
     "output_type": "display_data",
     "data": {
      "text/plain": "interactive(children=(FloatSlider(value=0.0, description='noise_mag', max=1.0, step=0.05), Output()), _dom_cla…",
      "application/vnd.jupyter.widget-view+json": {
       "version_major": 2,
       "version_minor": 0,
       "model_id": "dc01c8867182464da9b648f0ea6f99de"
      }
     },
     "metadata": {}
    },
    {
     "output_type": "display_data",
     "data": {
      "text/plain": "interactive(children=(FloatSlider(value=0.0, description='noise_mag', max=1.0, step=0.05), Output()), _dom_cla…",
      "application/vnd.jupyter.widget-view+json": {
       "version_major": 2,
       "version_minor": 0,
       "model_id": "2984099ee7b54722abe12af68826c68a"
      }
     },
     "metadata": {}
    },
    {
     "output_type": "execute_result",
     "data": {
      "text/plain": [
       "<function utils.plot_from_folder(folder, noise_mag=0.2)>"
      ]
     },
     "metadata": {},
     "execution_count": 2
    }
   ],
   "source": [
    "wid.interact(plot_from_folder, folder=wid.fixed(\"PD_naive_results\"), noise_mag=noise_mag)\n",
    "wid.interact(plot_from_folder, folder=wid.fixed(\"PD_lola_results\"), noise_mag=noise_mag)"
   ]
  },
  {
   "source": [
    "# Pure BoS"
   ],
   "cell_type": "markdown",
   "metadata": {}
  },
  {
   "cell_type": "code",
   "execution_count": 3,
   "metadata": {},
   "outputs": [
    {
     "output_type": "display_data",
     "data": {
      "text/plain": "interactive(children=(FloatSlider(value=0.0, description='noise_mag', max=1.0, step=0.05), Output()), _dom_cla…",
      "application/vnd.jupyter.widget-view+json": {
       "version_major": 2,
       "version_minor": 0,
       "model_id": "75e861d9d12146f1ab0b6f8e6e697b92"
      }
     },
     "metadata": {}
    },
    {
     "output_type": "display_data",
     "data": {
      "text/plain": "interactive(children=(FloatSlider(value=0.0, description='noise_mag', max=1.0, step=0.05), Output()), _dom_cla…",
      "application/vnd.jupyter.widget-view+json": {
       "version_major": 2,
       "version_minor": 0,
       "model_id": "73d00cd62bbd4c72935d36e5f93c3009"
      }
     },
     "metadata": {}
    },
    {
     "output_type": "execute_result",
     "data": {
      "text/plain": [
       "<function utils.plot_from_folder(folder, noise_mag=0.2)>"
      ]
     },
     "metadata": {},
     "execution_count": 3
    }
   ],
   "source": [
    "wid.interact(plot_from_folder, folder=wid.fixed(\"BoS_naive_results\"), noise_mag=noise_mag)\n",
    "wid.interact(plot_from_folder, folder=wid.fixed(\"BoS_lola_results\"), noise_mag=noise_mag)"
   ]
  },
  {
   "source": [
    "# Noisy Prisoner's Dilemma"
   ],
   "cell_type": "markdown",
   "metadata": {}
  },
  {
   "cell_type": "code",
   "execution_count": 4,
   "metadata": {},
   "outputs": [
    {
     "output_type": "display_data",
     "data": {
      "text/plain": "interactive(children=(FloatSlider(value=0.0, description='noise_mag', max=1.0, step=0.05), Output()), _dom_cla…",
      "application/vnd.jupyter.widget-view+json": {
       "version_major": 2,
       "version_minor": 0,
       "model_id": "908d2ea51265438fb38c154fd82e9bc6"
      }
     },
     "metadata": {}
    },
    {
     "output_type": "display_data",
     "data": {
      "text/plain": "interactive(children=(FloatSlider(value=0.0, description='noise_mag', max=1.0, step=0.05), Output()), _dom_cla…",
      "application/vnd.jupyter.widget-view+json": {
       "version_major": 2,
       "version_minor": 0,
       "model_id": "fd150e1802ca40b68d0640646d80efd5"
      }
     },
     "metadata": {}
    },
    {
     "output_type": "execute_result",
     "data": {
      "text/plain": [
       "<function utils.plot_from_folder(folder, noise_mag=0.2)>"
      ]
     },
     "metadata": {},
     "execution_count": 4
    }
   ],
   "source": [
    "wid.interact(plot_from_folder, folder=wid.fixed(\"PD97_naive_results\"), noise_mag=noise_mag)\n",
    "wid.interact(plot_from_folder, folder=wid.fixed(\"PD97_lola_results\"), noise_mag=noise_mag)"
   ]
  }
 ]
}