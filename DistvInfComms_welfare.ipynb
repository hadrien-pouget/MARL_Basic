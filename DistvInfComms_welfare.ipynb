{
 "cells": [
  {
   "cell_type": "code",
   "execution_count": 17,
   "metadata": {},
   "outputs": [],
   "source": [
    "from utils import load_results_policies\n",
    "from games import get_game\n",
    "import matplotlib.pyplot as plt\n",
    "import ipywidgets as wid\n",
    "import numpy as np\n",
    "import seaborn as sns\n",
    "from itertools import product\n",
    "from welfare_functions import nash, util\n",
    "sns.set()\n"
   ]
  },
  {
   "cell_type": "code",
   "execution_count": 31,
   "metadata": {},
   "outputs": [
    {
     "output_type": "display_data",
     "data": {
      "text/plain": "interactive(children=(FloatSlider(value=0.5, description='p', max=1.0), IntSlider(value=3, description='a', ma…",
      "application/vnd.jupyter.widget-view+json": {
       "version_major": 2,
       "version_minor": 0,
       "model_id": "5d5cdbfeb2de4f97bdc57d6aa8cd4eff"
      }
     },
     "metadata": {}
    }
   ],
   "source": [
    "@wid.interact(p=(0, 1, 0.1), a=(1, 10, 1), step_type=['lola','naive'], babble=True, coord=True, leader=True, comm=True, other=False)\n",
    "def plot_all_res(p=0.5, a=3, step_type='naive', babble=True, coord=True, leader=True, comm=True, other=False):\n",
    "    using = [babble, coord, leader, comm, other]\n",
    "    names = [\"Babble\", \"Coord\", \"Leader\", \"Comm\", \"Other\"]\n",
    "    colours = {names[n]:'C{}'.format(n) for n in range(len(names))}\n",
    "    names = [names[n] for n in range(len(names)) if using[n]]\n",
    "    plt.figure(figsize=(12, 4))\n",
    "\n",
    "    save_folder = \"DistInfComms_p{}_a{}_{}_0\".format(p, a, step_type)\n",
    "    game = get_game(\"DistInfComms\", p=p, a=a)\n",
    "    r1s, r2s, p1s, p2s = load_results_policies(save_folder)\n",
    "    p1s = np.array(p1s)\n",
    "    p2s = np.array(p2s)\n",
    "\n",
    "    equi = game.get_equilibria(p1s, p2s)\n",
    "    equi = [equi[r] for r in range(len(equi)) if using[r]]\n",
    "\n",
    "    equi_r1s = [[r1s[e] for e in es] for es in equi]\n",
    "    equi_r2s = [[r2s[e] for e in es] for es in equi]\n",
    "\n",
    "    ### Plot 1\n",
    "    xs = []\n",
    "    hue = []\n",
    "    for i, n in enumerate(names):\n",
    "        xs += [n] * len(equi[i])\n",
    "        hue += ['p1'] * len(equi[i])\n",
    "    xs += xs\n",
    "    hue += ['p2'] * len(hue)\n",
    "    ys = [r for rs in equi_r1s for r in rs]\n",
    "    ys += [r for rs in equi_r2s for r in rs]\n",
    "\n",
    "    plt.subplot(1,2,1)\n",
    "    sns.barplot(x=xs, y=ys, hue=hue)\n",
    "\n",
    "    ### Plot 2\n",
    "    equi_util = [[util(r1, r2) for r1, r2 in zip(er1s, er2s)] for er1s, er2s in zip(equi_r1s, equi_r2s)]\n",
    "    equi_nash = [[nash(r1, r2) for r1, r2 in zip(er1s, er2s)] for er1s, er2s in zip(equi_r1s, equi_r2s)]\n",
    "\n",
    "    xs = []\n",
    "    hue = []\n",
    "    for i, n in enumerate(names):\n",
    "        xs += [n] * len(equi[i])\n",
    "        hue += ['util'] * len(equi[i])\n",
    "    xs += xs\n",
    "    hue += ['nash'] * len(hue)\n",
    "    ys = [r for rs in equi_util for r in rs]\n",
    "    ys += [r for rs in equi_nash for r in rs]\n",
    "\n",
    "    xs, hue = hue, xs\n",
    "    plt.subplot(1,2,2)\n",
    "    sns.barplot(x=xs, y=ys, hue=hue, palette=colours)#, kind='violin')"
   ]
  },
  {
   "cell_type": "code",
   "execution_count": 29,
   "metadata": {},
   "outputs": [
    {
     "output_type": "display_data",
     "data": {
      "text/plain": "interactive(children=(FloatSlider(value=0.5, description='p', max=1.0), IntSlider(value=3, description='a', ma…",
      "application/vnd.jupyter.widget-view+json": {
       "version_major": 2,
       "version_minor": 0,
       "model_id": "dbc4e821f2b94521a90c9d56e9b3afc5"
      }
     },
     "metadata": {}
    }
   ],
   "source": [
    "@wid.interact(p=(0, 1, 0.1), a=(1, 10, 1), step_type=['lola','naive'], babble=True, coord=True, leader=True, comm=True, other=False)\n",
    "def plot_all_res(p=0.5, a=3, step_type='naive', babble=True, coord=True, leader=True, comm=True, other=False):\n",
    "    using = [babble, coord, leader, comm, other]\n",
    "    names = [\"Babble\", \"Coord\", \"Leader\", \"Comm\", \"Other\"]\n",
    "    colours = {names[n]:'C{}'.format(n) for n in range(len(names))}\n",
    "    names = [names[n] for n in range(len(names)) if using[n]]\n",
    "\n",
    "    save_folder = \"DistInfComms_p{}_a{}_{}_0\".format(p, a, step_type)\n",
    "    game = get_game(\"DistInfComms\", p=p, a=a)\n",
    "    r1s, r2s, p1s, p2s = load_results_policies(save_folder)\n",
    "    p1s = np.array(p1s)\n",
    "    p2s = np.array(p2s)\n",
    "\n",
    "    equi = game.get_equilibria(p1s, p2s)\n",
    "    equi = [equi[r] for r in range(len(equi)) if using[r]]\n",
    "\n",
    "    equi_r1s = [[r1s[e] for e in es] for es in equi]\n",
    "    equi_r2s = [[r2s[e] for e in es] for es in equi]\n",
    "    equi_util = [[util(r1, r2) for r1, r2 in zip(er1s, er2s)] for er1s, er2s in zip(equi_r1s, equi_r2s)]\n",
    "    equi_nash = [[nash(r1, r2) for r1, r2 in zip(er1s, er2s)] for er1s, er2s in zip(equi_r1s, equi_r2s)]\n",
    "\n",
    "    xs = []\n",
    "    hue = []\n",
    "    for i, n in enumerate(names):\n",
    "        xs += [n] * len(equi[i])\n",
    "        hue += ['util'] * len(equi[i])\n",
    "    xs += xs\n",
    "    hue += ['nash'] * len(hue)\n",
    "    ys = [r for rs in equi_util for r in rs]\n",
    "    ys += [r for rs in equi_nash for r in rs]\n",
    "\n",
    "    xs, hue = hue, xs\n",
    "    sns.barplot(x=xs, y=ys, hue=hue, palette=colours)#, kind='violin')"
   ]
  },
  {
   "cell_type": "code",
   "execution_count": null,
   "metadata": {},
   "outputs": [],
   "source": []
  }
 ],
 "metadata": {
  "kernelspec": {
   "name": "python388jvsc74a57bd0b67035600a667de3e2a3e6bc6f663850b3ad2ce353c5279796bc411b10e9d4e9",
   "display_name": "Python 3.8.8 64-bit ('torch': conda)"
  },
  "language_info": {
   "codemirror_mode": {
    "name": "ipython",
    "version": 3
   },
   "file_extension": ".py",
   "mimetype": "text/x-python",
   "name": "python",
   "nbconvert_exporter": "python",
   "pygments_lexer": "ipython3",
   "version": "3.8.8"
  }
 },
 "nbformat": 4,
 "nbformat_minor": 2
}