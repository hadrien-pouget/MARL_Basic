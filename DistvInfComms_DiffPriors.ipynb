{
 "cells": [
  {
   "cell_type": "code",
   "execution_count": 1,
   "metadata": {},
   "outputs": [],
   "source": [
    "from utils import load_results\n",
    "from games import get_game\n",
    "import matplotlib.pyplot as plt\n",
    "import ipywidgets as wid\n",
    "import numpy as np\n",
    "import seaborn as sns\n",
    "from itertools import product\n",
    "from welfare_functions import nash, util\n",
    "sns.set()\n"
   ]
  },
  {
   "cell_type": "code",
   "execution_count": 5,
   "metadata": {},
   "outputs": [
    {
     "output_type": "display_data",
     "data": {
      "text/plain": "interactive(children=(FloatSlider(value=0.5, description='prior_1', max=1.0), FloatSlider(value=0.5, descripti…",
      "application/vnd.jupyter.widget-view+json": {
       "version_major": 2,
       "version_minor": 0,
       "model_id": "b2987f9445a54f8aa3e2dd22edb7c700"
      }
     },
     "metadata": {}
    }
   ],
   "source": [
    "general_game = get_game(\"SimpleDistInfComms\", prior_1_param=[0], prior_2_param=[0], a=2)\n",
    "priors = [a for a, b in general_game.generate_test_priors()]\n",
    "\n",
    "@wid.interact(prior_1=(0, 1, 0.1), prior_2=(0, 1, 0.1), a=[1,2,5,10], eval_prior=priors, equi_prior=priors, babble=True, coord=True, leader=True, comm=True, other=True)\n",
    "def plot_all_res(prior_1=0.5, prior_2=0.5, a=2, eval_prior='p_5', equi_prior='p_5', babble=True, coord=True, leader=True, comm=True, other=True):\n",
    "    using = [babble, coord, leader, comm, other]\n",
    "    names = [\"Babble\", \"Coord\", \"Leader\", \"Comm\", \"Other\"]\n",
    "    names = [names[n] for n in range(len(names)) if using[n]]\n",
    "\n",
    "\n",
    "    game = get_game(\"SimpleDistInfComms\", prior_1_param=[prior_1], prior_2_param=[prior_2], a=a)\n",
    "    save_folder = \"SimpleDistInfComms_p{}_{}_a{}_naive_0\".format(int(prior_1*10), int(prior_2*10), a)\n",
    "    p1s, p2s = load_results(save_folder, 'Pols_0')\n",
    "    r1s, r2s = load_results(save_folder, eval_prior + '_Pfs_0')\n",
    "    # xr1s, xr2s = load_results(save_folder, eval_prior + '_XPfs_0')\n",
    "\n",
    "    equi = game.get_equilibria(p1s, p2s, prior=equi_prior)\n",
    "    equi_inds = []\n",
    "    for i in range(len(r1s)):\n",
    "        j = 0\n",
    "        for e in equi:\n",
    "            if i in e:\n",
    "                break\n",
    "            j+=1\n",
    "        equi_inds.append(j)\n",
    "    r1s = [r for i, r in enumerate(r1s) if using[equi_inds[i]]]\n",
    "    r2s = [r for i, r in enumerate(r2s) if using[equi_inds[i]]]\n",
    "\n",
    "    sns.scatterplot(x=r1s, y=r2s, fc='none', ec='orange', linewidth=1.3, label=\"Jointly Trained\")\n",
    "    # sns.scatterplot(x=xr1s, y=xr2s, fc='none', ec='blue', linewidth=1.3, label=\"Cross Tests\")\n",
    "    polygon = game.outcomes_polygon()\n",
    "    plt.fill(polygon[0], polygon[1], alpha=0.1, color='purple')"
   ]
  },
  {
   "cell_type": "code",
   "execution_count": null,
   "metadata": {},
   "outputs": [],
   "source": []
  }
 ],
 "metadata": {
  "kernelspec": {
   "name": "python388jvsc74a57bd0b67035600a667de3e2a3e6bc6f663850b3ad2ce353c5279796bc411b10e9d4e9",
   "display_name": "Python 3.8.8 64-bit ('torch': conda)"
  },
  "language_info": {
   "codemirror_mode": {
    "name": "ipython",
    "version": 3
   },
   "file_extension": ".py",
   "mimetype": "text/x-python",
   "name": "python",
   "nbconvert_exporter": "python",
   "pygments_lexer": "ipython3",
   "version": "3.8.8"
  }
 },
 "nbformat": 4,
 "nbformat_minor": 2
}